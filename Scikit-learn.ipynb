{
 "cells": [
  {
   "cell_type": "markdown",
   "metadata": {},
   "source": [
    "# Project for Machine Learning and Statistics - December 2021\n",
    "\n",
    "\n",
    "## Submitted by Sinéad Duffy, ID 10016151\n",
    "\n",
    "***\n",
    "\n",
    "### Notebook 1\n",
    "\n",
    "#### Problem Statement - write an overview of the scikit-learn library, and outline (using examples) 3 algorithms of that package\n",
    "\n",
    "***\n",
    "\n",
    "\n",
    "### Introduction\n",
    "\n",
    "Scikit-learn is a library within Python that allows for machine learning scenarios to be completed using regression / classifification as well as clustering.[^1] [^2] The library draws on other packages / libraries such as NumPy, Matplotlib, Pandas etc in to improve functionality.[^3]  \n",
    "<br>\n",
    "The scikit-learn library allows developers to use supervised and unsupervised learning algorithms to test data that is loaded using a .csv file (in the case of this noteook).  Within supervised learning 17 distinct areas are outlined, such as linear models, kernel ridge regression, stochastic gradient descent, nearest neighbours and decision tress.[^1]        Unsupervisied learning has 9 distinct areas such as Gaussian mixture models, manifold learning, clustering and biclustering.[^1]\n",
    "<br><br>\n",
    "As outlined above, the brief of this notebook is to outline 3 of the algorithms of the scikit-learn library, using examples.  For that reason, the notebook will be segmented into;<br>\n",
    "\n",
    "1. Introduction\n",
    "2. Algorithn 1 \n",
    "3. Algorithn 2 \n",
    "4. Algorithm 3\n",
    "5. Conclusion\n",
    "6. References\n",
    "\n",
    "<br>\n",
    "The refrences used throughout the notebook are outlined in section 5. Throughout the notebook footnotes are used to indicate where the specific refrences are used.\n",
    "<br><br>\n",
    "The notebook also contains a number of cells containing code. Each of these are outlined in subsequent sections.\n",
    "<br>\n",
    "<br>\n",
    "The choosen algorithms for this package are;\n",
    "<br><br>\n"
   ]
  },
  {
   "cell_type": "code",
   "execution_count": null,
   "metadata": {},
   "outputs": [],
   "source": []
  },
  {
   "cell_type": "code",
   "execution_count": null,
   "metadata": {},
   "outputs": [],
   "source": []
  },
  {
   "cell_type": "code",
   "execution_count": null,
   "metadata": {},
   "outputs": [],
   "source": []
  },
  {
   "cell_type": "code",
   "execution_count": null,
   "metadata": {},
   "outputs": [],
   "source": []
  },
  {
   "cell_type": "code",
   "execution_count": null,
   "metadata": {},
   "outputs": [],
   "source": []
  },
  {
   "cell_type": "code",
   "execution_count": null,
   "metadata": {},
   "outputs": [],
   "source": []
  },
  {
   "cell_type": "code",
   "execution_count": null,
   "metadata": {},
   "outputs": [],
   "source": []
  },
  {
   "cell_type": "code",
   "execution_count": null,
   "metadata": {},
   "outputs": [],
   "source": []
  },
  {
   "cell_type": "code",
   "execution_count": null,
   "metadata": {},
   "outputs": [],
   "source": []
  },
  {
   "cell_type": "markdown",
   "metadata": {},
   "source": [
    "### References:\n",
    "\n",
    "1.  Scikit-learn.org https://scikit-learn.org/stable/tutorial/index.html\n",
    "2.  Wikipedia.com / scikit-learn - https://en.wikipedia.org/wiki/Scikit-learn\n",
    "3.  MachineLearningMastery.com / Introductuin to scikit-learn - https://machinelearningmastery.com/a-gentle-introduction-to-scikit-learn-a-python-machine-learning-library/\n",
    "4.  UCI Machine Learning Repository - https://archive.ics.uci.edu/ml/datasets/Heart+Disease\n",
    "\n",
    "\n",
    "\n",
    "## End\n"
   ]
  },
  {
   "cell_type": "code",
   "execution_count": null,
   "metadata": {},
   "outputs": [],
   "source": []
  }
 ],
 "metadata": {
  "kernelspec": {
   "display_name": "Python 3",
   "language": "python",
   "name": "python3"
  },
  "language_info": {
   "codemirror_mode": {
    "name": "ipython",
    "version": 3
   },
   "file_extension": ".py",
   "mimetype": "text/x-python",
   "name": "python",
   "nbconvert_exporter": "python",
   "pygments_lexer": "ipython3",
   "version": "3.8.8"
  }
 },
 "nbformat": 4,
 "nbformat_minor": 4
}
