{
 "cells": [
  {
   "cell_type": "markdown",
   "metadata": {},
   "source": [
    "# Project for Machine Learning and Statistics - December 2021\n",
    "\n",
    "\n",
    "## Submitted by Sinéad Duffy, ID 10016151\n",
    "\n",
    "***\n",
    "\n",
    "### Notebook 1\n",
    "\n",
    "#### Problem Statement - write an overview of the scikit-learn library, and outline (using examples) 3 algorithms of that package\n",
    "\n",
    "***\n",
    "\n",
    "\n",
    "### Introduction\n",
    "\n",
    "Scikit-learn is a library within Python that allows for machine learning scenarios to be completed using regression / classifification as well as clustering.[^1] [^2] The library draws on other packages / libraries such as NumPy, Matplotlib, Pandas etc in to improve functionality.[^3]  \n",
    "<br>\n",
    "The scikit-learn library allows developers to use supervised and unsupervised learning algorithms to test data that is loaded using a .csv file (in the case of this noteook).  Within supervised learning 17 distinct areas are outlined, such as linear models, kernel ridge regression, stochastic gradient descent, nearest neighbours and decision tress.[^1]        Unsupervisied learning has 9 distinct areas such as Gaussian mixture models, manifold learning, clustering and biclustering.[^1]\n",
    "<br><br>\n",
    "As outlined above, the brief of this notebook is to outline 3 of the algorithms of the scikit-learn library, using examples.  For that reason, the notebook will be segmented into;<br>\n",
    "\n",
    "1. Introduction\n",
    "2. Algorithn 1 - Logistic Regression\n",
    "3. Algorithn 2 - Naive Bayes (Gaussian Function)\n",
    "4. Algorithm 3\n",
    "5. Conclusion\n",
    "6. References\n",
    "\n",
    "<br>\n",
    "The refrences used throughout the notebook are outlined in section 5. Throughout the notebook footnotes are used to indicate where the specific refrences are used.\n",
    "<br><br>\n",
    "The notebook also contains a number of cells containing code. Each of these are outlined in subsequent sections.\n",
    "<br>\n",
    "<br>\n",
    "The choosen algorithms for this package are;\n",
    "<br><br>\n",
    "\n",
    "### Introduction to Machine Learning with scikit-learn\n",
    "\n",
    "https://scikit-learn.org/stable/tutorial/basic/tutorial.html"
   ]
  },
  {
   "cell_type": "code",
   "execution_count": 1,
   "metadata": {},
   "outputs": [],
   "source": [
    "# importing libraries\n",
    "\n",
    "# data processing libraries\n",
    "import numpy as np\n",
    "import csv\n",
    "import pandas as pd\n",
    "\n",
    "# libraries to plot results\n",
    "import matplotlib.pyplot as plt\n",
    "%matplotlib inline\n",
    "\n",
    "import seaborn as sns\n",
    "sns.set_style(\"dark\")\n",
    "sns.set_theme(style=\"ticks\")\n",
    "\n",
    "# sklearn libraries to complete the analysis\n",
    "import sklearn as sk\n",
    "import sklearn.linear_model as lm\n",
    "import sklearn.neighbors as nei\n",
    "import sklearn.model_selection as mod\n",
    "\n",
    "# models for logistic regression\n",
    "from sklearn.model_selection import train_test_split\n",
    "from sklearn.linear_model import LogisticRegression\n",
    "from sklearn.metrics import confusion_matrix\n"
   ]
  },
  {
   "cell_type": "markdown",
   "metadata": {},
   "source": [
    "### The Heart Disease Data Set.\n",
    "\n",
    "As outline above, the choosen dataset consists of 303 rows and 14 distict attributes.  The original dataset had 76 distinct attributes.  For the purpose of this notebook, the dataset has been consolidated to 14 distinct attributes.\n",
    "\n",
    "Each of the attributes can be as [5] \n",
    "\n",
    "- Age: the age of the patient.\n",
    "- Sex: displays the gender of the patient, shown as either 1 = male  or 0 = female\n",
    "- Chest-pain type: displays the type of chest-pain experienced by the patient shown as 1 = typical angina / 2 = atypical angina / 3 = non — anginal pain / 4 = asymptotic\n",
    "- Resting Blood Pressure: displays the resting blood pressure value of the patient in units of mmHg\n",
    "- Serum Cholestrol: displays the serum cholesterol in units of mg/dl\n",
    "- Fasting Blood Sugar: compares the fasting blood sugar value of the patient with 120mg/dl. Fasting been shown as blood sugar less than 120mg/dl is 1 (true)  ....   else : 0 (false)\n",
    "- Resting ECG : shows the resting electrocardiographic results of 0 = normal / 1 = having ST-T wave abnormality / 2 = left ventricular hyperthrophy\n",
    "- Max heart rate achieved : shows the max heart rate of the patiend.\n",
    "- Exercise induced angina is shown by either a 1 = yes  or  0 = no\n",
    "- ST depression induced by exercise relative to rest: is shown by a value which is an integer or float.\n",
    "- Peak exercise ST segment : is shown as either 1 = upsloping / 2 = flat / 3 = downsloping\n",
    "- Number of major vessels (0–3) colored by flourosopy\n",
    "- Thal : shows the thalassemia of the patient and it is either 3 = normal / 6 = fixed defect / 7 = reversible defect\n",
    "- Num : shows if the patient has heart disease or not and the values are either 0 = absence / 1, 2, 3, 4 = present\n",
    "\n"
   ]
  },
  {
   "cell_type": "code",
   "execution_count": 2,
   "metadata": {},
   "outputs": [
    {
     "name": "stdout",
     "output_type": "stream",
     "text": [
      "<class 'pandas.core.frame.DataFrame'>\n",
      "RangeIndex: 303 entries, 0 to 302\n",
      "Data columns (total 14 columns):\n",
      " #   Column    Non-Null Count  Dtype  \n",
      "---  ------    --------------  -----  \n",
      " 0   Age       303 non-null    int64  \n",
      " 1   Sex       303 non-null    int64  \n",
      " 2   CP        303 non-null    int64  \n",
      " 3   Trestbps  303 non-null    int64  \n",
      " 4   Chol      303 non-null    int64  \n",
      " 5   FBS       303 non-null    int64  \n",
      " 6   RestECG   303 non-null    int64  \n",
      " 7   Thalach   303 non-null    int64  \n",
      " 8   Exang     303 non-null    int64  \n",
      " 9   OldPeak   303 non-null    float64\n",
      " 10  Slope     303 non-null    int64  \n",
      " 11  CA        303 non-null    int64  \n",
      " 12  Thal      303 non-null    int64  \n",
      " 13  Num       303 non-null    int64  \n",
      "dtypes: float64(1), int64(13)\n",
      "memory usage: 33.3 KB\n",
      "None\n"
     ]
    }
   ],
   "source": [
    "#importing a csv file using pandas\n",
    "df = pd.read_csv('Datasets\\heart.csv')\n",
    "\n",
    "#print the summary data of the datafile\n",
    "print(df.info())"
   ]
  },
  {
   "cell_type": "code",
   "execution_count": 3,
   "metadata": {},
   "outputs": [
    {
     "name": "stdout",
     "output_type": "stream",
     "text": [
      "<class 'pandas.core.frame.DataFrame'>\n",
      "RangeIndex: 303 entries, 0 to 302\n",
      "Data columns (total 14 columns):\n",
      " #   Column    Non-Null Count  Dtype\n",
      "---  ------    --------------  -----\n",
      " 0   Age       303 non-null    int64\n",
      " 1   Sex       303 non-null    int64\n",
      " 2   CP        303 non-null    int64\n",
      " 3   Trestbps  303 non-null    int64\n",
      " 4   Chol      303 non-null    int64\n",
      " 5   FBS       303 non-null    int64\n",
      " 6   RestECG   303 non-null    int64\n",
      " 7   Thalach   303 non-null    int64\n",
      " 8   Exang     303 non-null    int64\n",
      " 9   OldPeak   303 non-null    int64\n",
      " 10  Slope     303 non-null    int64\n",
      " 11  CA        303 non-null    int64\n",
      " 12  Thal      303 non-null    int64\n",
      " 13  Num       303 non-null    int64\n",
      "dtypes: int64(14)\n",
      "memory usage: 33.3 KB\n",
      "None\n"
     ]
    }
   ],
   "source": [
    "# convert float 64 to int64 type to allow processing to take place\n",
    "df['OldPeak'] = df['OldPeak'].astype(np.int64)\n",
    "print(df.info())"
   ]
  },
  {
   "cell_type": "code",
   "execution_count": null,
   "metadata": {},
   "outputs": [],
   "source": [
    "# print the dataframe and show the types of data that it contains\n",
    "print(df)"
   ]
  },
  {
   "cell_type": "markdown",
   "metadata": {},
   "source": [
    "## What the analysis should look for \n",
    "\n",
    "Once the data has been loaded into the notebook, it's important to confirm what analysis will be completed.  As outined above, the data set is looking at whither a patient has been found to have heart diease or not.\n",
    "<br><br>\n",
    "The column that tracks this result is the 'num' column.  A outlined above, a zero (0) result says no heart diease has been found, any other result (1 to 4) show that it has been found.\n",
    "\n",
    "The following sections outline the preparation of the data for analysis, as well as the different analysis that is carried out by the author.\n"
   ]
  },
  {
   "cell_type": "markdown",
   "metadata": {},
   "source": [
    "## Exploring the imported dataset"
   ]
  },
  {
   "cell_type": "code",
   "execution_count": null,
   "metadata": {},
   "outputs": [],
   "source": [
    "# describe the main stat's output of the data frame\n",
    "df.describe()"
   ]
  },
  {
   "cell_type": "code",
   "execution_count": null,
   "metadata": {},
   "outputs": [],
   "source": [
    "# by using the group by function, it is possible to see how the data is grouped, based on the 'Num' column\n",
    "x = df.groupby(\"Num\")\n",
    "x"
   ]
  },
  {
   "cell_type": "code",
   "execution_count": null,
   "metadata": {},
   "outputs": [],
   "source": [
    "# displays the averages of each column against the results within the 'Num' column.\n",
    "\n",
    "x.mean()"
   ]
  },
  {
   "cell_type": "markdown",
   "metadata": {},
   "source": [
    "The dataset allows a programmer to determine if the patient has heart diease or not.  The column 'num' displays the result of the analysis.  Any result in num, other than zero (0), indicates that the patient has heart diease.  A zero (0) result indicates that heart diease is not present.\n",
    "<br><br>\n",
    "The num column currently has values of 0 to 4 recorded.  In order to store a true / false result, the author can use the map() function in pandas to assign a different value for the duration of the program.  The values stored in the dataframe are not altered.\n",
    "<br><br>\n",
    "In this instance, the value of 1 is assinged to values 1 / 2 / 3 / 4 that are stored in the num column of the data frame.  Thus, giving a true / false value to the column.\n",
    "<br><br>\n",
    "For ease of reference, the same method is used on the 'sex' column to give a male or female value rather than the existing numerical one.  As a reminder, the gender of the patient, shown as either 1 = male  or 0 = female."
   ]
  },
  {
   "cell_type": "code",
   "execution_count": 4,
   "metadata": {},
   "outputs": [
    {
     "data": {
      "text/plain": [
       "0      0\n",
       "1      1\n",
       "2      1\n",
       "3      0\n",
       "4      0\n",
       "      ..\n",
       "298    1\n",
       "299    1\n",
       "300    1\n",
       "301    1\n",
       "302    0\n",
       "Name: Num, Length: 303, dtype: int64"
      ]
     },
     "execution_count": 4,
     "metadata": {},
     "output_type": "execute_result"
    }
   ],
   "source": [
    "# using pandas to map the values of the 'Num' column to either true (represented by a 1) or false (represented by a 0)\n",
    "df['Num'] = df.Num.map({0: 0, 1: 1, 2: 1, 3: 1, 4: 1})\n",
    "\n",
    "# confirm that the column Num is still an integer\n",
    "df['Num']"
   ]
  },
  {
   "cell_type": "code",
   "execution_count": 5,
   "metadata": {},
   "outputs": [
    {
     "data": {
      "text/plain": [
       "<pandas.core.groupby.generic.DataFrameGroupBy object at 0x000001B3638186A0>"
      ]
     },
     "execution_count": 5,
     "metadata": {},
     "output_type": "execute_result"
    }
   ],
   "source": [
    "x2= df.groupby(\"Num\")\n",
    "x2"
   ]
  },
  {
   "cell_type": "code",
   "execution_count": null,
   "metadata": {},
   "outputs": [],
   "source": [
    "x2.mean()"
   ]
  },
  {
   "cell_type": "code",
   "execution_count": null,
   "metadata": {},
   "outputs": [],
   "source": [
    "#plot all the variables against each other to see what the data looks like.\n",
    "sns.pairplot(df, hue=\"Num\")"
   ]
  },
  {
   "attachments": {
    "80cbfd9a-b9ee-4235-881d-7b2f17acde10.PNG": {
     "image/png": "[encoded data removed]"
    }
   },
   "cell_type": "markdown",
   "metadata": {},
   "source": [
    "The pair plot above helps to show all the variables, and to see if any relationships or correlations exist between them.  The data in the pair plot plotted against the variable (hue) Num.  As described above, if the value of Num is 0, then no heart diease is found in the patient.  A value of 1 outlines that heart diease is present in the patient.\n",
    "<br><br>\n",
    "Visualising the data using Seaborn's pairplot, helps to show that relationships / correlations exist between several of the variables.  For example, OldPeak shows correlations with Age / Testbps / Chol and Thalach.  The correlations are both positive as in OldPeak with Chol, Testbps and Thalach, as well as neutral in the case of OldPeak and Age.\n",
    "<br><br>\n",
    "Using a correlation heatplot (below) it is possible to show relationship or features between two values,$^9$, $^10$. To display a correlation, Panda uses the function $data.corr()$.\n",
    "\n",
    "There are three different models of correlations that can be used by Pandas. They are;\n",
    "\n",
    "- Pearson's r - maps the linear relationsship between two variables.$^11$\n",
    "- Spearman's rho - maps the rank of variables.$^12$\n",
    "- Kendall's tau - maps the rank of variables against their position in the data, i.e first / second etc.$^13$\n",
    "\n",
    "The cell below below outlines the correlation of the dataset. 'Age' is the variable that has been used for the correlation, and is compared against each of the other variables.  The Table below outlines what a negative and positve correlation results in$^10$.![correlation outline.PNG](attachment:80cbfd9a-b9ee-4235-881d-7b2f17acde10.PNG)"
   ]
  },
  {
   "cell_type": "code",
   "execution_count": null,
   "metadata": {},
   "outputs": [],
   "source": [
    "# correlation Mapping\n",
    "\n",
    "correlation = df.corr()\n",
    "# display(correlation)\n",
    "plt.figure(figsize=(14, 12))\n",
    "heatmap = sns.heatmap(correlation, annot=True, linewidths=0, vmin=-1, cmap=\"RdBu_r\")"
   ]
  },
  {
   "cell_type": "code",
   "execution_count": null,
   "metadata": {},
   "outputs": [],
   "source": []
  },
  {
   "cell_type": "markdown",
   "metadata": {},
   "source": [
    "### Classification Problem\n",
    "\n",
    "As stated previously, the purpose of this notebook is to look at the data, and see if it is possible to predict if heart diesase is present in a given patient.  \n",
    "<br>\n",
    "The last column in the dataset (Num) outlines the if heart diesease is present or not.  The Author has used the $ map()$ to easily identify if this is true ($1$) or false ($0$) no heart diease found in the patient.  The following sections will outline how classification is completed for the heart diease dataset.\n",
    "\n",
    "#### Classification defined\n",
    "Classification is part of the Supverised Learning approach to machine learning [6 / 7 / 8]. IBM defines Supervised Learning as an \"approach that’s defined by its use of labeled datasets\".[8]  This basically means that the data to be analyzed has already had labels applied to it.  Classification is part of this type of machine learning and uses the data labels to 'learn' about the data, and use this to 'predict' results from data that is similar, but not yet labeled [6 / 7 / 8].\n",
    "<br><br>\n",
    "Scikit-learn's supervised learning section has many models that can be used to classify data including [6 / 7 / 8]; \n",
    "\n",
    "- K-Nearest Neighbors\n",
    "- Support Vector Machines\n",
    "- Decision Tree Classifiers / Random Forests\n",
    "- Naive Bayes\n",
    "- Linear Discriminant Analysis\n",
    "- Logistic Regression\n",
    "<br><br>\n",
    "The chosen supervised learning algorithms for this notebook are outlined in detail in the following sections."
   ]
  },
  {
   "cell_type": "markdown",
   "metadata": {},
   "source": [
    "### 1. Logistic Regression\n",
    "\n",
    "Linear Regression test to make sure that the predition is working\n",
    "<br>\n",
    "\n",
    "#### use this website reference ... \n",
    "https://stackabuse.com/overview-of-classification-methods-in-python-with-scikit-learn/\n",
    "<br>"
   ]
  },
  {
   "cell_type": "markdown",
   "metadata": {},
   "source": [
    "#### Creating testing and training data\n",
    "\n",
    "Using the <b>sklearn.model_selection.train_test_split</b> function, the dataset is divided into two distinct sub data frames - Test and Train.  \n",
    "<br><br>\n",
    "The dataset (df) is divided 80 / 20, with 80% of the data being assigned to the training dataset, with the remaining dataset being assigned to the test one using the <b>test_size paramater</b>.  It possible for the split to be placed on the training data using a similar parameter of <b>train_size</b>.\n",
    "<br><br>\n",
    "The parameter of <b>random_state</b> controls the amount of shuffling that is applied to the data before the split occurs.  The input is either a number (i.e. the number of shuffles) or none (i.e. no shuffling takes place)\n",
    "\n"
   ]
  },
  {
   "cell_type": "code",
   "execution_count": 30,
   "metadata": {},
   "outputs": [],
   "source": [
    "# # assign values for x and y from the start to the end of the df\n",
    "X = df.iloc[:, :-1].values\n",
    "y = df.iloc[:, -1].values\n",
    "\n",
    "# spliting the dataframe into Test and Train data\n",
    "X_Train, X_Test, y_Train, y_Test = train_test_split(X, y, test_size = 0.2, random_state = 0)\n"
   ]
  },
  {
   "cell_type": "code",
   "execution_count": 7,
   "metadata": {},
   "outputs": [],
   "source": [
    "# creating a new classifer using logistic regression\n",
    "logreg_clf = LogisticRegression()"
   ]
  },
  {
   "cell_type": "code",
   "execution_count": 8,
   "metadata": {},
   "outputs": [
    {
     "name": "stderr",
     "output_type": "stream",
     "text": [
      "C:\\Users\\sinea\\anaconda3\\lib\\site-packages\\sklearn\\linear_model\\_logistic.py:814: ConvergenceWarning: lbfgs failed to converge (status=1):\n",
      "STOP: TOTAL NO. of ITERATIONS REACHED LIMIT.\n",
      "\n",
      "Increase the number of iterations (max_iter) or scale the data as shown in:\n",
      "    https://scikit-learn.org/stable/modules/preprocessing.html\n",
      "Please also refer to the documentation for alternative solver options:\n",
      "    https://scikit-learn.org/stable/modules/linear_model.html#logistic-regression\n",
      "  n_iter_i = _check_optimize_result(\n"
     ]
    },
    {
     "data": {
      "text/plain": [
       "LogisticRegression()"
      ]
     },
     "execution_count": 8,
     "metadata": {},
     "output_type": "execute_result"
    }
   ],
   "source": [
    "# training the classifier\n",
    "logreg_clf.fit(X_Train, y_Train)"
   ]
  },
  {
   "cell_type": "code",
   "execution_count": 9,
   "metadata": {},
   "outputs": [],
   "source": [
    "# Predicting the result based on the test data\n",
    "y_pred = logreg_clf.predict(X_Test)\n"
   ]
  },
  {
   "cell_type": "markdown",
   "metadata": {},
   "source": [
    "### Confusion Matrix\n",
    "\n",
    "Sciki-learn has an inbuild functionality to allow a progrm to test the accuracy of a classification when using machine learning [5, 14, 15]. This is achieved by compairing the test data against the predicted data.  \n",
    "<br>\n",
    "The results can be displayed using using a matrix plot where true / test data (Y-axis) is plotted agaisted the predicted data (X-aixs).  "
   ]
  },
  {
   "cell_type": "code",
   "execution_count": 10,
   "metadata": {},
   "outputs": [],
   "source": [
    "# CONFUSION MATRIX ......to check the accuracy of the classification\n",
    "\n",
    "y_pred_train = logreg_clf.predict(X_Train)"
   ]
  },
  {
   "cell_type": "code",
   "execution_count": 16,
   "metadata": {},
   "outputs": [],
   "source": [
    "# training the confusion matrix, based on predicted data and training data\n",
    "cm_Train = confusion_matrix(y_pred_train, y_Train)\n",
    "\n",
    "# print(cm_Train)"
   ]
  },
  {
   "cell_type": "code",
   "execution_count": 17,
   "metadata": {},
   "outputs": [],
   "source": [
    "# testing the confusion matrix results, based on predicted and test data\n",
    "\n",
    "cm_Test = confusion_matrix(y_pred, y_Test)\n",
    "\n",
    "# print(cm_Test)"
   ]
  },
  {
   "cell_type": "code",
   "execution_count": 26,
   "metadata": {},
   "outputs": [
    {
     "name": "stdout",
     "output_type": "stream",
     "text": [
      "Accuracy for training set for Logistic Regression = 86.36%\n"
     ]
    }
   ],
   "source": [
    "# print the Accuracy value of for test data \n",
    "# output is formatted in line with values take from the start of the 2d cm_Train array , \n",
    "# and position 1 of the cm_Train array, divided by the length of the y_Train \n",
    "# Reference [.5]\n",
    "\n",
    "print('Accuracy for training set for Logistic Regression = {:.2%}'.format((cm_Train[0][0] + cm_Train[1][1])/len(y_Train)))"
   ]
  },
  {
   "cell_type": "code",
   "execution_count": 27,
   "metadata": {},
   "outputs": [
    {
     "name": "stdout",
     "output_type": "stream",
     "text": [
      "Accuracy for test set for Logistic Regression = 78.69%\n"
     ]
    }
   ],
   "source": [
    "# print the Accuracy value of for test data \n",
    "# output is formatted in line with values take from the start of the 2d cm_Test array , \n",
    "# and position 1 of the cm_Test array, divided by the length of the y_Test arrary\n",
    "# Reference [.5]\n",
    "\n",
    "print('Accuracy for test set for Logistic Regression = {:.2%}'.format((cm_Test[0][0] + cm_Test[1][1])/len(y_Test)))"
   ]
  },
  {
   "cell_type": "code",
   "execution_count": 28,
   "metadata": {},
   "outputs": [],
   "source": [
    "from sklearn.metrics import confusion_matrix, ConfusionMatrixDisplay"
   ]
  },
  {
   "cell_type": "code",
   "execution_count": 29,
   "metadata": {},
   "outputs": [
    {
     "data": {
      "image/png": "[encoded data removed]",
      "text/plain": [
       "<Figure size 432x288 with 2 Axes>"
      ]
     },
     "metadata": {},
     "output_type": "display_data"
    }
   ],
   "source": [
    "# display a plot  of the confusion matrix \n",
    "# https://scikit-learn.org/stable/modules/generated/sklearn.metrics.ConfusionMatrixDisplay.html#sklearn.metrics.ConfusionMatrixDisplay.from_predictions\n",
    "\n",
    "# the normalise field allows the results to be shown as a ratio - of predicted / true or all values\n",
    "\n",
    "cm= confusion_matrix(y_Test, y_pred, normalize='pred')\n",
    "\n",
    "disp = ConfusionMatrixDisplay(confusion_matrix=cm)\n",
    "disp.plot()\n",
    "plt.show()"
   ]
  },
  {
   "cell_type": "markdown",
   "metadata": {},
   "source": [
    "### Algorithm 2 - Naive Bayes (Gaussian)\n",
    "\n",
    "This algorithms based on the mimplementation of the Baynes theorem.  There are a number of classifiers that can be used to explore this algorithm, including\n",
    "- Bernoulli\n",
    "- Categorial features\n",
    "- Complement Classifer by Rennie et al\n",
    "- Gaussian \n",
    "- Classifier for Mulinomial models\n",
    "<br>\n",
    "\n",
    "\n",
    "Gaussian model with be the classifier choosen for this project.  The Gaussian process follows a normal distribution i.e. it takes a bell shaped curve.  "
   ]
  },
  {
   "cell_type": "code",
   "execution_count": null,
   "metadata": {},
   "outputs": [],
   "source": []
  },
  {
   "cell_type": "code",
   "execution_count": null,
   "metadata": {},
   "outputs": [],
   "source": []
  },
  {
   "cell_type": "code",
   "execution_count": null,
   "metadata": {},
   "outputs": [],
   "source": []
  },
  {
   "cell_type": "code",
   "execution_count": null,
   "metadata": {},
   "outputs": [],
   "source": []
  },
  {
   "cell_type": "code",
   "execution_count": null,
   "metadata": {},
   "outputs": [],
   "source": []
  },
  {
   "cell_type": "code",
   "execution_count": null,
   "metadata": {},
   "outputs": [],
   "source": []
  },
  {
   "cell_type": "code",
   "execution_count": null,
   "metadata": {},
   "outputs": [],
   "source": []
  },
  {
   "cell_type": "markdown",
   "metadata": {},
   "source": [
    "### References:\n",
    "\n",
    "1. Scikit-learn.org https://scikit-learn.org/stable/tutorial/index.html\n",
    "2. Wikipedia.com / scikit-learn - https://en.wikipedia.org/wiki/Scikit-learn\n",
    "3. MachineLearningMastery.com / Introductuin to scikit-learn - https://machinelearningmastery.com/a-gentle-introduction-to-scikit-learn-a-python-machine-learning-library/\n",
    "4. UCI Machine Learning Repository - https://archive.ics.uci.edu/ml/datasets/Heart+Disease, accessed 05 November 2021\n",
    "5. Toward Data Science - https://towardsdatascience.com/heart-disease-prediction-73468d630cfc, accessed 05 November 2021\n",
    "6. Scikit-learn.org / An Introduction to Machine Learning -  https://scikit-learn.org/stable/tutorial/basic/tutorial.html, accessed 09 November 2021\n",
    "7. Scikit-learn.org / Classification - https://scikit-learn.org/stable/modules/sgd.html#classification, accessed 09 November 2021\n",
    "8. IBM /Supervised vs. Unsupervised Learning: What’s the Difference? https://www.ibm.com/cloud/blog/supervised-vs-unsupervised-learning, access 09 November 2021\n",
    "9. Pandas.pydata.org, Pandas.dataframe.corr, https://pandas.pydata.org/pandas-docs/stable/reference/api/pandas.DataFrame.corr.html, accessed 20 December 2020\n",
    "10. RealPython.com, NumPy, SciPy, and Pandas: Correlation With Python, https://realpython.com/numpy-scipy-pandas-correlation-python/, accessed 20 December 2020\n",
    "11. Wikipedia.com, Pearson correlation coefficient , https://en.wikipedia.org/wiki/Pearson_correlation_coefficient, accessed 20 December 2020\n",
    "12. Wikipedia.com, Spearman's rank correlation coefficient, https://en.wikipedia.org/wiki/Spearman%27s_rank_correlation_coefficient,accessed 20 December 2020\n",
    "13. Wikipedia.com, Kendall rank correlation coefficient, ,accessed 20 December 2020\n",
    "14. TowardsDataScience.com, Undertanding the Confusion Matrix from Scikit-learn, https://towardsdatascience.com/understanding-the-confusion-matrix-from-scikit-learn-c51d88929c79, accessed on 20 November 2021\n",
    "15. Scikit-learn.org, sklearn.metrics.confusion_matrix, https://scikit-learn.org/stable/modules/generated/sklearn.metrics.confusion_matrix.html, accessed 20 November 2021\n",
    "16. Scikit-learn.org, Naive Bayes, https://scikit-learn.org/stable/modules/naive_bayes.html#naive-bayes, accessed 21 November 2021\n",
    "17. Scikit-learn.org, Gaussian Naive Bayes,https://scikit-learn.org/stable/modules/generated/sklearn.naive_bayes.GaussianNB.html#sklearn.naive_bayes.GaussianNB, accessed 21 November 2021\n",
    "18. \n",
    "19. \n",
    "20. \n",
    "\n",
    "\n",
    "\n",
    "## End\n"
   ]
  },
  {
   "cell_type": "code",
   "execution_count": null,
   "metadata": {},
   "outputs": [],
   "source": []
  }
 ],
 "metadata": {
  "kernelspec": {
   "display_name": "Python 3",
   "language": "python",
   "name": "python3"
  },
  "language_info": {
   "codemirror_mode": {
    "name": "ipython",
    "version": 3
   },
   "file_extension": ".py",
   "mimetype": "text/x-python",
   "name": "python",
   "nbconvert_exporter": "python",
   "pygments_lexer": "ipython3",
   "version": "3.8.8"
  }
 },
 "nbformat": 4,
 "nbformat_minor": 4
}
