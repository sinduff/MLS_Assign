{
 "cells": [
  {
   "cell_type": "markdown",
   "metadata": {},
   "source": [
    "# Project for Machine Learning and Statistics - December 2021\n",
    "\n",
    "## Submitted by Sinéad Duffy, ID 10016151\n",
    "\n",
    "***\n",
    "\n",
    "### Notebook 2 - Scipy-stats.ipynb\n",
    "\n",
    "#### Brief - write an overview of the SciPy.stats library, outline (using examples) the package and complete an example hypothesis using ANOVA\n",
    "\n",
    "***"
   ]
  },
  {
   "cell_type": "markdown",
   "metadata": {},
   "source": [
    "# SciPy.stats library\n",
    "\n",
    "SciPy is a an extension of the NumPy language in Python, and gives users the opportunity to work with data in an environment similar to that of MatLab/ SciLab etc.$^3$  The package is organised into 15 subpackages dealing with specific mathmatical domains such as clustering, optimize, sparse and statistics.  For the purpose of this notebook, the author will focus on the SciPy.Stats package.\n",
    "<br><br>\n",
    "SciPy.Stats contains algorithms outlining probability distributions, summary / frequency, correlation and statistical tests.  Users will need to still include packages such as Pandas  to format the data before applying an algorithm to it.\n",
    "<br><br>\n",
    "SciPy.Stats allows the user to complete t-tests (__ttest_1samp()__) as well as One-Way Anova (__f_oneway()__).  T-tests allow the user to compare the statistical difference between two groups, whilst a one-way ANOVA between three or more groups.  Completing a one-way ANOVA is outlined in the following paragraphs. \n",
    "\n",
    "***\n",
    "### What is a One-Way ANOVA\n",
    "<br>\n",
    "Laerd Statistics defines ANOVA as being short for one-way analysis of variance, and outlines that it is used to see if there are any statistically significant differences between 3 or more independent (unrelated) groups.$^9$\n",
    "<br><br>\n",
    "An ANOVA will allow a person to understand the statistical differences (variances) through use of hypotheses.  In this instance, an null hypothesis and an alternative hypothesis is formed, along with a research question to be answered.\n",
    "<br><br>\n",
    "The research question in this instance is; What is the best video to show when informing a group of the public about a medical condition.\n",
    "<br><br>\n",
    "The hypotheses relating to this question are;\n",
    "<br><br>\n",
    "<b>1 - Null Hypothesis</b> is that there is no difference between the subjects knowledge of the medical condition after watching the videos\n",
    "<br><br>\n",
    "<b>2 - Alternative Hypothesis</b> is that there is a difference between the groups based on their knowledge of the medical condition\n",
    "\n",
    "***\n",
    "\n",
    "Laerd Statistics$^2$ outline that for a sucessful ANOVA to be run, the data will need to pass 6 assumptions.  The assumptions are;\n",
    "\n",
    "1 - <b>Dependent variable</b> is an interval or ratio along a continious scale<br>\n",
    "2 - <b>Independent Variable</b> should be made up of categorical groups<br>\n",
    "3 - The data has <b>independence of observations</b><br>\n",
    "4 - The data has <b>no significant outliers</b><br>\n",
    "5 - The dependent variable has <b>a normal distribution</b> for each category of the independent variable<br>\n",
    "6 - There is <b>homogeneity of variances</b> in the data<br>\n",
    "\n",
    "The author has determined that the independent variable in this example is the categorical data which outlines the groups who have heard / not heard / or it is not relevant of the medical condition (i.e the column of Heardofcondition).  The dependent variable is the first preference video of the shown to the public.  The data has been gathered using a Likert Scale."
   ]
  },
  {
   "cell_type": "code",
   "execution_count": 33,
   "metadata": {},
   "outputs": [],
   "source": [
    "# import the standard pyton libraries\n",
    "import pandas as pd\n",
    "import numpy as np\n",
    "\n",
    "# import graphs library\n",
    "import seaborn as sns\n",
    "import matplotlib as plt\n",
    "\n",
    "# set style for graphs\n",
    "sns.set_style(\"white\")\n",
    "\n",
    "# Statsistical Libraries\n",
    "import scipy.stats as ss\n",
    "\n",
    "# create tables\n",
    "from tabulate import tabulate\n"
   ]
  },
  {
   "cell_type": "markdown",
   "metadata": {},
   "source": [
    "### Import and explore the dataset\n",
    "\n",
    "The chosen dataset relates to informational videos relating to a prescribed medical condition.  The dataset was sourced from the University of Sheffield. $^1$\n",
    "<br>\n",
    "\n",
    "The attributes of the dataframe are;\n",
    "\n",
    "- Person, index value to the person who answered the survey\n",
    "- Gender, with binary values of 1= Male, 2 = Female\n",
    "- Heardofcondition questions if the respondent heard of the condition being discussed, the answers are 0 = N/A, 1 = Yes, 2 = No\n",
    "- Set gives the order of the groups the preference of the respondents in terms of videos watched, the replies are maked as\n",
    "        - 1 = General Video A, \n",
    "        - 2 = Medical video B, \n",
    "        - 3 = Old video C, \n",
    "        - 4 = Demo D\n",
    "    - @1st-Favourite video\n",
    "    - @2nd-2nd favourite\n",
    "    - @3rd-3rd favourite\n",
    "    - @4th-Least favourite\n",
    "- Combination displays the order that videos were seen in; the combination is shown as a series of numbers\n",
    "- General understandings of the videos.  The ordinal Likert scale used was from 1, where the respondents strongly disagree to 5 where the respondents strongly agree\n",
    "    - VideoAGenUnderstandingCONDITION wehere the video A is a general understanding\n",
    "    - VideoBdoctorUnderstandingCONDITION where video B Doctors video B understanding\n",
    "    - VideoCOldUnderstandingCONDITION where video C is the old understanding\n",
    "    - DEMOUnderstandingCONDITION where video D demonstrates an understanding\n",
    "- TotalAGen-Overall score (video A)\n",
    "- TotalBdoc-Overall score (video B) \n",
    "- TotalCOld-Overall score (video C)\n",
    "- TotalDDEMO-Overall score (demo D)\n",
    "\n",
    "The following sections outline explore the dataframe before completing the ANOVA analysis."
   ]
  },
  {
   "cell_type": "code",
   "execution_count": 2,
   "metadata": {},
   "outputs": [
    {
     "data": {
      "text/html": [
       "<div>\n",
       "<style scoped>\n",
       "    .dataframe tbody tr th:only-of-type {\n",
       "        vertical-align: middle;\n",
       "    }\n",
       "\n",
       "    .dataframe tbody tr th {\n",
       "        vertical-align: top;\n",
       "    }\n",
       "\n",
       "    .dataframe thead th {\n",
       "        text-align: right;\n",
       "    }\n",
       "</style>\n",
       "<table border=\"1\" class=\"dataframe\">\n",
       "  <thead>\n",
       "    <tr style=\"text-align: right;\">\n",
       "      <th></th>\n",
       "      <th>Person</th>\n",
       "      <th>Gender</th>\n",
       "      <th>Heardofcondition</th>\n",
       "      <th>Set</th>\n",
       "      <th>@1st</th>\n",
       "      <th>@2nd</th>\n",
       "      <th>@3rd</th>\n",
       "      <th>@4th</th>\n",
       "      <th>Combination</th>\n",
       "      <th>VideoAGenUnderstandingCONDITION</th>\n",
       "      <th>VideoBdoctorUnderstandingCONDITION</th>\n",
       "      <th>VideoCOldUnderstandingCONDITION</th>\n",
       "      <th>DEMOUnderstandingCONDITION</th>\n",
       "      <th>TotalAGen</th>\n",
       "      <th>TotalBdoc</th>\n",
       "      <th>TotalCOld</th>\n",
       "      <th>TotalDDEMO</th>\n",
       "    </tr>\n",
       "  </thead>\n",
       "  <tbody>\n",
       "    <tr>\n",
       "      <th>0</th>\n",
       "      <td>1</td>\n",
       "      <td>1</td>\n",
       "      <td>1</td>\n",
       "      <td>1</td>\n",
       "      <td>4</td>\n",
       "      <td>1</td>\n",
       "      <td>3</td>\n",
       "      <td>2</td>\n",
       "      <td>4132</td>\n",
       "      <td>5</td>\n",
       "      <td>5</td>\n",
       "      <td>3</td>\n",
       "      <td>5</td>\n",
       "      <td>25</td>\n",
       "      <td>23</td>\n",
       "      <td>13</td>\n",
       "      <td>22</td>\n",
       "    </tr>\n",
       "    <tr>\n",
       "      <th>1</th>\n",
       "      <td>2</td>\n",
       "      <td>2</td>\n",
       "      <td>1</td>\n",
       "      <td>1</td>\n",
       "      <td>4</td>\n",
       "      <td>1</td>\n",
       "      <td>3</td>\n",
       "      <td>2</td>\n",
       "      <td>4132</td>\n",
       "      <td>5</td>\n",
       "      <td>5</td>\n",
       "      <td>5</td>\n",
       "      <td>5</td>\n",
       "      <td>23</td>\n",
       "      <td>23</td>\n",
       "      <td>20</td>\n",
       "      <td>22</td>\n",
       "    </tr>\n",
       "    <tr>\n",
       "      <th>2</th>\n",
       "      <td>3</td>\n",
       "      <td>2</td>\n",
       "      <td>2</td>\n",
       "      <td>1</td>\n",
       "      <td>4</td>\n",
       "      <td>1</td>\n",
       "      <td>3</td>\n",
       "      <td>2</td>\n",
       "      <td>4132</td>\n",
       "      <td>4</td>\n",
       "      <td>4</td>\n",
       "      <td>2</td>\n",
       "      <td>5</td>\n",
       "      <td>20</td>\n",
       "      <td>17</td>\n",
       "      <td>14</td>\n",
       "      <td>23</td>\n",
       "    </tr>\n",
       "    <tr>\n",
       "      <th>3</th>\n",
       "      <td>4</td>\n",
       "      <td>2</td>\n",
       "      <td>0</td>\n",
       "      <td>1</td>\n",
       "      <td>4</td>\n",
       "      <td>1</td>\n",
       "      <td>3</td>\n",
       "      <td>2</td>\n",
       "      <td>4132</td>\n",
       "      <td>5</td>\n",
       "      <td>5</td>\n",
       "      <td>5</td>\n",
       "      <td>5</td>\n",
       "      <td>24</td>\n",
       "      <td>24</td>\n",
       "      <td>23</td>\n",
       "      <td>25</td>\n",
       "    </tr>\n",
       "    <tr>\n",
       "      <th>4</th>\n",
       "      <td>5</td>\n",
       "      <td>2</td>\n",
       "      <td>2</td>\n",
       "      <td>1</td>\n",
       "      <td>4</td>\n",
       "      <td>1</td>\n",
       "      <td>3</td>\n",
       "      <td>2</td>\n",
       "      <td>4132</td>\n",
       "      <td>5</td>\n",
       "      <td>5</td>\n",
       "      <td>4</td>\n",
       "      <td>5</td>\n",
       "      <td>25</td>\n",
       "      <td>22</td>\n",
       "      <td>18</td>\n",
       "      <td>23</td>\n",
       "    </tr>\n",
       "  </tbody>\n",
       "</table>\n",
       "</div>"
      ],
      "text/plain": [
       "   Person  Gender  Heardofcondition  Set  @1st  @2nd  @3rd  @4th  Combination  \\\n",
       "0       1       1                 1    1     4     1     3     2         4132   \n",
       "1       2       2                 1    1     4     1     3     2         4132   \n",
       "2       3       2                 2    1     4     1     3     2         4132   \n",
       "3       4       2                 0    1     4     1     3     2         4132   \n",
       "4       5       2                 2    1     4     1     3     2         4132   \n",
       "\n",
       "   VideoAGenUnderstandingCONDITION  VideoBdoctorUnderstandingCONDITION  \\\n",
       "0                                5                                   5   \n",
       "1                                5                                   5   \n",
       "2                                4                                   4   \n",
       "3                                5                                   5   \n",
       "4                                5                                   5   \n",
       "\n",
       "   VideoCOldUnderstandingCONDITION  DEMOUnderstandingCONDITION  TotalAGen  \\\n",
       "0                                3                           5         25   \n",
       "1                                5                           5         23   \n",
       "2                                2                           5         20   \n",
       "3                                5                           5         24   \n",
       "4                                4                           5         25   \n",
       "\n",
       "   TotalBdoc  TotalCOld  TotalDDEMO  \n",
       "0         23         13          22  \n",
       "1         23         20          22  \n",
       "2         17         14          23  \n",
       "3         24         23          25  \n",
       "4         22         18          23  "
      ]
     },
     "execution_count": 2,
     "metadata": {},
     "output_type": "execute_result"
    }
   ],
   "source": [
    "# import the dataframe to the notebook\n",
    "df = pd.read_csv('https://www.sheffield.ac.uk/polopoly_fs/1.937213!/file/Video_R.csv')\n",
    "\n",
    "#display first 5 rows of the dataframe\n",
    "df.head(5)"
   ]
  },
  {
   "cell_type": "code",
   "execution_count": 3,
   "metadata": {},
   "outputs": [
    {
     "data": {
      "text/html": [
       "<div>\n",
       "<style scoped>\n",
       "    .dataframe tbody tr th:only-of-type {\n",
       "        vertical-align: middle;\n",
       "    }\n",
       "\n",
       "    .dataframe tbody tr th {\n",
       "        vertical-align: top;\n",
       "    }\n",
       "\n",
       "    .dataframe thead th {\n",
       "        text-align: right;\n",
       "    }\n",
       "</style>\n",
       "<table border=\"1\" class=\"dataframe\">\n",
       "  <thead>\n",
       "    <tr style=\"text-align: right;\">\n",
       "      <th></th>\n",
       "      <th>Person</th>\n",
       "      <th>Gender</th>\n",
       "      <th>Heardofcondition</th>\n",
       "      <th>Set</th>\n",
       "      <th>@1st</th>\n",
       "      <th>@2nd</th>\n",
       "      <th>@3rd</th>\n",
       "      <th>@4th</th>\n",
       "      <th>Combination</th>\n",
       "      <th>VideoAGenUnderstandingCONDITION</th>\n",
       "      <th>VideoBdoctorUnderstandingCONDITION</th>\n",
       "      <th>VideoCOldUnderstandingCONDITION</th>\n",
       "      <th>DEMOUnderstandingCONDITION</th>\n",
       "      <th>TotalAGen</th>\n",
       "      <th>TotalBdoc</th>\n",
       "      <th>TotalCOld</th>\n",
       "      <th>TotalDDEMO</th>\n",
       "    </tr>\n",
       "  </thead>\n",
       "  <tbody>\n",
       "    <tr>\n",
       "      <th>count</th>\n",
       "      <td>20.00000</td>\n",
       "      <td>20.00000</td>\n",
       "      <td>20.000000</td>\n",
       "      <td>20.000000</td>\n",
       "      <td>20.000000</td>\n",
       "      <td>20.000000</td>\n",
       "      <td>20.000000</td>\n",
       "      <td>20.000000</td>\n",
       "      <td>20.000000</td>\n",
       "      <td>20.000000</td>\n",
       "      <td>20.000000</td>\n",
       "      <td>20.000000</td>\n",
       "      <td>20.000000</td>\n",
       "      <td>20.000000</td>\n",
       "      <td>20.000000</td>\n",
       "      <td>20.000000</td>\n",
       "      <td>20.000000</td>\n",
       "    </tr>\n",
       "    <tr>\n",
       "      <th>mean</th>\n",
       "      <td>10.50000</td>\n",
       "      <td>1.65000</td>\n",
       "      <td>0.800000</td>\n",
       "      <td>11.500000</td>\n",
       "      <td>2.500000</td>\n",
       "      <td>2.250000</td>\n",
       "      <td>3.000000</td>\n",
       "      <td>2.250000</td>\n",
       "      <td>2757.250000</td>\n",
       "      <td>4.750000</td>\n",
       "      <td>4.550000</td>\n",
       "      <td>3.300000</td>\n",
       "      <td>4.900000</td>\n",
       "      <td>24.100000</td>\n",
       "      <td>22.450000</td>\n",
       "      <td>14.650000</td>\n",
       "      <td>21.850000</td>\n",
       "    </tr>\n",
       "    <tr>\n",
       "      <th>std</th>\n",
       "      <td>5.91608</td>\n",
       "      <td>0.48936</td>\n",
       "      <td>0.767772</td>\n",
       "      <td>8.413648</td>\n",
       "      <td>1.147079</td>\n",
       "      <td>1.332785</td>\n",
       "      <td>0.725476</td>\n",
       "      <td>1.118034</td>\n",
       "      <td>1042.998556</td>\n",
       "      <td>0.444262</td>\n",
       "      <td>0.604805</td>\n",
       "      <td>1.218282</td>\n",
       "      <td>0.307794</td>\n",
       "      <td>1.252366</td>\n",
       "      <td>1.605091</td>\n",
       "      <td>4.869616</td>\n",
       "      <td>2.455391</td>\n",
       "    </tr>\n",
       "    <tr>\n",
       "      <th>min</th>\n",
       "      <td>1.00000</td>\n",
       "      <td>1.00000</td>\n",
       "      <td>0.000000</td>\n",
       "      <td>1.000000</td>\n",
       "      <td>1.000000</td>\n",
       "      <td>1.000000</td>\n",
       "      <td>2.000000</td>\n",
       "      <td>1.000000</td>\n",
       "      <td>1342.000000</td>\n",
       "      <td>4.000000</td>\n",
       "      <td>3.000000</td>\n",
       "      <td>1.000000</td>\n",
       "      <td>4.000000</td>\n",
       "      <td>20.000000</td>\n",
       "      <td>17.000000</td>\n",
       "      <td>5.000000</td>\n",
       "      <td>17.000000</td>\n",
       "    </tr>\n",
       "    <tr>\n",
       "      <th>25%</th>\n",
       "      <td>5.75000</td>\n",
       "      <td>1.00000</td>\n",
       "      <td>0.000000</td>\n",
       "      <td>7.750000</td>\n",
       "      <td>1.750000</td>\n",
       "      <td>1.000000</td>\n",
       "      <td>2.750000</td>\n",
       "      <td>1.750000</td>\n",
       "      <td>2158.750000</td>\n",
       "      <td>4.750000</td>\n",
       "      <td>4.000000</td>\n",
       "      <td>2.000000</td>\n",
       "      <td>5.000000</td>\n",
       "      <td>24.000000</td>\n",
       "      <td>22.000000</td>\n",
       "      <td>12.500000</td>\n",
       "      <td>20.750000</td>\n",
       "    </tr>\n",
       "    <tr>\n",
       "      <th>50%</th>\n",
       "      <td>10.50000</td>\n",
       "      <td>2.00000</td>\n",
       "      <td>1.000000</td>\n",
       "      <td>10.500000</td>\n",
       "      <td>2.500000</td>\n",
       "      <td>2.000000</td>\n",
       "      <td>3.000000</td>\n",
       "      <td>2.000000</td>\n",
       "      <td>2777.500000</td>\n",
       "      <td>5.000000</td>\n",
       "      <td>5.000000</td>\n",
       "      <td>3.000000</td>\n",
       "      <td>5.000000</td>\n",
       "      <td>24.000000</td>\n",
       "      <td>23.000000</td>\n",
       "      <td>14.000000</td>\n",
       "      <td>22.000000</td>\n",
       "    </tr>\n",
       "    <tr>\n",
       "      <th>75%</th>\n",
       "      <td>15.25000</td>\n",
       "      <td>2.00000</td>\n",
       "      <td>1.000000</td>\n",
       "      <td>14.250000</td>\n",
       "      <td>3.250000</td>\n",
       "      <td>3.250000</td>\n",
       "      <td>3.250000</td>\n",
       "      <td>2.500000</td>\n",
       "      <td>3376.000000</td>\n",
       "      <td>5.000000</td>\n",
       "      <td>5.000000</td>\n",
       "      <td>4.000000</td>\n",
       "      <td>5.000000</td>\n",
       "      <td>25.000000</td>\n",
       "      <td>23.000000</td>\n",
       "      <td>18.000000</td>\n",
       "      <td>23.500000</td>\n",
       "    </tr>\n",
       "    <tr>\n",
       "      <th>max</th>\n",
       "      <td>20.00000</td>\n",
       "      <td>2.00000</td>\n",
       "      <td>2.000000</td>\n",
       "      <td>24.000000</td>\n",
       "      <td>4.000000</td>\n",
       "      <td>4.000000</td>\n",
       "      <td>4.000000</td>\n",
       "      <td>4.000000</td>\n",
       "      <td>4132.000000</td>\n",
       "      <td>5.000000</td>\n",
       "      <td>5.000000</td>\n",
       "      <td>5.000000</td>\n",
       "      <td>5.000000</td>\n",
       "      <td>25.000000</td>\n",
       "      <td>25.000000</td>\n",
       "      <td>23.000000</td>\n",
       "      <td>25.000000</td>\n",
       "    </tr>\n",
       "  </tbody>\n",
       "</table>\n",
       "</div>"
      ],
      "text/plain": [
       "         Person    Gender  Heardofcondition        Set       @1st       @2nd  \\\n",
       "count  20.00000  20.00000         20.000000  20.000000  20.000000  20.000000   \n",
       "mean   10.50000   1.65000          0.800000  11.500000   2.500000   2.250000   \n",
       "std     5.91608   0.48936          0.767772   8.413648   1.147079   1.332785   \n",
       "min     1.00000   1.00000          0.000000   1.000000   1.000000   1.000000   \n",
       "25%     5.75000   1.00000          0.000000   7.750000   1.750000   1.000000   \n",
       "50%    10.50000   2.00000          1.000000  10.500000   2.500000   2.000000   \n",
       "75%    15.25000   2.00000          1.000000  14.250000   3.250000   3.250000   \n",
       "max    20.00000   2.00000          2.000000  24.000000   4.000000   4.000000   \n",
       "\n",
       "            @3rd       @4th  Combination  VideoAGenUnderstandingCONDITION  \\\n",
       "count  20.000000  20.000000    20.000000                        20.000000   \n",
       "mean    3.000000   2.250000  2757.250000                         4.750000   \n",
       "std     0.725476   1.118034  1042.998556                         0.444262   \n",
       "min     2.000000   1.000000  1342.000000                         4.000000   \n",
       "25%     2.750000   1.750000  2158.750000                         4.750000   \n",
       "50%     3.000000   2.000000  2777.500000                         5.000000   \n",
       "75%     3.250000   2.500000  3376.000000                         5.000000   \n",
       "max     4.000000   4.000000  4132.000000                         5.000000   \n",
       "\n",
       "       VideoBdoctorUnderstandingCONDITION  VideoCOldUnderstandingCONDITION  \\\n",
       "count                           20.000000                        20.000000   \n",
       "mean                             4.550000                         3.300000   \n",
       "std                              0.604805                         1.218282   \n",
       "min                              3.000000                         1.000000   \n",
       "25%                              4.000000                         2.000000   \n",
       "50%                              5.000000                         3.000000   \n",
       "75%                              5.000000                         4.000000   \n",
       "max                              5.000000                         5.000000   \n",
       "\n",
       "       DEMOUnderstandingCONDITION  TotalAGen  TotalBdoc  TotalCOld  TotalDDEMO  \n",
       "count                   20.000000  20.000000  20.000000  20.000000   20.000000  \n",
       "mean                     4.900000  24.100000  22.450000  14.650000   21.850000  \n",
       "std                      0.307794   1.252366   1.605091   4.869616    2.455391  \n",
       "min                      4.000000  20.000000  17.000000   5.000000   17.000000  \n",
       "25%                      5.000000  24.000000  22.000000  12.500000   20.750000  \n",
       "50%                      5.000000  24.000000  23.000000  14.000000   22.000000  \n",
       "75%                      5.000000  25.000000  23.000000  18.000000   23.500000  \n",
       "max                      5.000000  25.000000  25.000000  23.000000   25.000000  "
      ]
     },
     "execution_count": 3,
     "metadata": {},
     "output_type": "execute_result"
    }
   ],
   "source": [
    "#show the main statistics associated with df\n",
    "df.describe()"
   ]
  },
  {
   "cell_type": "markdown",
   "metadata": {},
   "source": [
    "***\n",
    "### Preparing for the ANOVA\n",
    "\n",
    "This section will look at the 6 assumptions that must be taken into account to run a true ANOVA.\n",
    "<br> <br> \n",
    "As outlined above, 6 assumptions must be passed in order for the results of the ANOVA to be true. \n",
    "\n",
    "***"
   ]
  },
  {
   "cell_type": "markdown",
   "metadata": {},
   "source": [
    "#### Assumption 1 - Dependent Variable\n",
    "\n",
    "The dependent variable 'should be measured at the interval or ratio level (i.e., they are continuous).'$^2$\n",
    "<br> <br> \n",
    "In this instance, the chosen dependent variable is the 1st preference video of each of the group.  "
   ]
  },
  {
   "cell_type": "code",
   "execution_count": 4,
   "metadata": {},
   "outputs": [],
   "source": [
    "# Set a value for the dependent variable\n",
    "\n",
    "dependent = df['@1st']\n"
   ]
  },
  {
   "cell_type": "markdown",
   "metadata": {},
   "source": [
    "***\n",
    "#### Assumption 2 - Independent Variable\n",
    "\n",
    "The indepedent variable should consist of at least two independent categorical groups$^2$.\n",
    "<br> <br> \n",
    "For this analysis, the chosen categorical variable with no overlap e.g.you have heard of the condition, you haven't heard of the condition, or the question is not appliciable to you."
   ]
  },
  {
   "cell_type": "code",
   "execution_count": 5,
   "metadata": {},
   "outputs": [],
   "source": [
    "#The independent variable \n",
    "\n",
    "independent = df['Heardofcondition']\n"
   ]
  },
  {
   "cell_type": "markdown",
   "metadata": {},
   "source": [
    "***\n",
    "#### Assumption 3 - Independence of Observation\n",
    "\n",
    "This refers to the fact that there should be no relationship between the groups themselves $^2$.\n",
    "<br><br>\n",
    "This dataset was collected to evaulate the best way of educating the public about a medical condition$^1$. \n",
    "<br><br>\n",
    "The source does not call out any relationships between the groups of data.  Data was collected using Likert style questions were answers were given along a scale.$^2$\n",
    "<br>"
   ]
  },
  {
   "cell_type": "markdown",
   "metadata": {},
   "source": [
    "***\n",
    "#### Assumption 4 - No Significant Outliers\n",
    "\n",
    "Laerd Statistics outlines that the chosen variables should have no significant outliers in the data$^2$. \n",
    "<br><br>\n",
    "The author will demonstrate this using boxplots.  The dependent and independent variables are plotted together and seperately to identify any outliers.\n",
    "<br><br>\n",
    "As can be clearly seen, there is no significant outliers identifed in the dataset.\n",
    "<br>"
   ]
  },
  {
   "cell_type": "code",
   "execution_count": 6,
   "metadata": {},
   "outputs": [
    {
     "data": {
      "text/plain": [
       "<AxesSubplot:xlabel='@1st', ylabel='Heardofcondition'>"
      ]
     },
     "execution_count": 6,
     "metadata": {},
     "output_type": "execute_result"
    },
    {
     "data": {
      "image/png": "[encoded data removed]",
      "text/plain": [
       "<Figure size 432x288 with 1 Axes>"
      ]
     },
     "metadata": {},
     "output_type": "display_data"
    }
   ],
   "source": [
    "#plotting the dependent and independent variables\n",
    "\n",
    "sns.boxplot(x=dependent, y=independent)"
   ]
  },
  {
   "cell_type": "code",
   "execution_count": 7,
   "metadata": {},
   "outputs": [
    {
     "data": {
      "text/plain": [
       "<AxesSubplot:xlabel='@1st'>"
      ]
     },
     "execution_count": 7,
     "metadata": {},
     "output_type": "execute_result"
    },
    {
     "data": {
      "image/png": "[encoded data removed]",
      "text/plain": [
       "<Figure size 432x288 with 1 Axes>"
      ]
     },
     "metadata": {},
     "output_type": "display_data"
    }
   ],
   "source": [
    "#plotting the dependent variable\n",
    "\n",
    "sns.boxplot(x=dependent)"
   ]
  },
  {
   "cell_type": "code",
   "execution_count": 8,
   "metadata": {},
   "outputs": [
    {
     "data": {
      "text/plain": [
       "<AxesSubplot:ylabel='Heardofcondition'>"
      ]
     },
     "execution_count": 8,
     "metadata": {},
     "output_type": "execute_result"
    },
    {
     "data": {
      "image/png": "[encoded data removed]",
      "text/plain": [
       "<Figure size 432x288 with 1 Axes>"
      ]
     },
     "metadata": {},
     "output_type": "display_data"
    }
   ],
   "source": [
    "#plotting the independent variable\n",
    "\n",
    "sns.boxplot(y=independent)"
   ]
  },
  {
   "cell_type": "markdown",
   "metadata": {},
   "source": [
    "***\n",
    "#### Assumption 5 - Normal distribution for each of the independent variable categories\n",
    "\n",
    "One of the key assumptions is that the dependent variable should approximately follow a normal distribution for the different categories of the individual variable$^2$.\n",
    "<br><br>\n",
    "To confirm if a normal distribution is true, a displot of the independent variables is plotted against the dependent varaible.  The results show that the curves appear to largely follow a normal distribution.\n",
    "<br><br>\n",
    "Further analysis can be completed using the Shapiro Wilks test as the sample in this instance is less than 50$^4$. \n",
    "<br><br>\n",
    "Results of the Shapiro Wilks test with a pvalue of greater that 0.05$^6$, indicate that the data is normally distributed.  Where the value of p is less than 0.05, then the data is not normal, i.e. the data will deviate from a normal distribution.$^4$\n",
    "<br>"
   ]
  },
  {
   "cell_type": "code",
   "execution_count": 9,
   "metadata": {},
   "outputs": [
    {
     "data": {
      "text/plain": [
       "<seaborn.axisgrid.FacetGrid at 0x1e9eb4d41c0>"
      ]
     },
     "execution_count": 9,
     "metadata": {},
     "output_type": "execute_result"
    },
    {
     "data": {
      "image/png": "[encoded data removed]",
      "text/plain": [
       "<Figure size 444.25x360 with 1 Axes>"
      ]
     },
     "metadata": {},
     "output_type": "display_data"
    }
   ],
   "source": [
    "sns.displot(x=dependent, hue=independent, kind=\"kde\")"
   ]
  },
  {
   "cell_type": "code",
   "execution_count": 26,
   "metadata": {},
   "outputs": [
    {
     "name": "stdout",
     "output_type": "stream",
     "text": [
      "The p-value of the Shapiro_Test1 is = 0.011\n"
     ]
    }
   ],
   "source": [
    "# Shapiro Wilk test for Normalacy - 1\n",
    "# previous knowledge N/a\n",
    "\n",
    "shapiro_test1 = ss.shapiro(dependent[independent == 0])\n",
    "#shapiro_test1\n",
    "\n",
    "print(\"The p-value of the Shapiro_Test1 is = {:.2}\".format(shapiro_test1.pvalue))"
   ]
  },
  {
   "cell_type": "code",
   "execution_count": 27,
   "metadata": {},
   "outputs": [
    {
     "name": "stdout",
     "output_type": "stream",
     "text": [
      "The p-value of the Shapiro_Test2 is = 0.025\n"
     ]
    }
   ],
   "source": [
    "# Shapiro Wilk test for Normalacy - 2\n",
    "# previous knowledge is yes\n",
    "\n",
    "shapiro_test2 = ss.shapiro(dependent[independent == 1])\n",
    "#shapiro_test2\n",
    "\n",
    "print(\"The p-value of the Shapiro_Test2 is = {:.2}\".format(shapiro_test2.pvalue))"
   ]
  },
  {
   "cell_type": "code",
   "execution_count": 28,
   "metadata": {},
   "outputs": [
    {
     "name": "stdout",
     "output_type": "stream",
     "text": [
      "The p-value of the Shapiro_Test3 is = 0.024\n"
     ]
    }
   ],
   "source": [
    "# Shapiro Wilk test for Normalacy - 3\n",
    "# previous knowledge is no\n",
    "\n",
    "shapiro_test3 = ss.shapiro(dependent[independent == 2])\n",
    "#shapiro_test3\n",
    "\n",
    "print(\"The p-value of the Shapiro_Test3 is = {:.2}\".format(shapiro_test3.pvalue))"
   ]
  },
  {
   "cell_type": "markdown",
   "metadata": {},
   "source": [
    "***\n",
    "#### Assumption 6 - Homogeneity of variances\n",
    "\n",
    "Laerd Statistics outlines that the 6th and final assumption to complete an Anova analysis is that there must be 'homogeneity of variances'.$^2$  This relates to the <i>t</i> and <i>F</i> statistics respectivly $^2$,$^4$ , and basically means that the variance of the different groups should be the same$^6$.\n",
    "\n",
    "Laerd Statistics$^2$ outline that the Levene’s test for homogeneity of variances will help determine if this is the case for the chosen dataset.\n",
    "\n",
    "The pvalue result (the significant value) should be greater than 0.05 for the variances to be treated as equal$^7$.\n",
    "\n",
    "Using the levene test, it is possible to say that the current dataset has equal values."
   ]
  },
  {
   "cell_type": "code",
   "execution_count": null,
   "metadata": {},
   "outputs": [],
   "source": [
    "#test for variances - Levene\n",
    "\n",
    "ss.levene(\n",
    "    dependent[independent == 0], \n",
    "    dependent[independent == 1], \n",
    "    dependent[independent == 2])"
   ]
  },
  {
   "cell_type": "markdown",
   "metadata": {},
   "source": [
    "***\n",
    "#### Review of the Assumptions\n",
    "\n",
    "In order for the data to comply with the ANOVA standards, it must pass all of the 6 assumptions outlined above.\n",
    "<br>\n",
    "The results of the analysis clearly show that Assumption 5 outlining the need for the data to follow a normal distribution curve initially is true.  However further analysis using the Shapiro-Wilks tests shows that the data fails this test.\n",
    "<br><br>\n",
    "The table below shows the results of the 3 tests runs for each of the categories of data.  All the values are less than 0.05, therefore the data does not follow a normal distribution.\n",
    "<br><br>\n",
    "Assumption 5 is the only assumption to fail the ANOVA test.  Laerd Statistics outline that the one-way ANOVA is a robust test and can accept data that does not fully follow the normal distribution$^10$. \n",
    "<br><br>\n",
    "On that basis, the author has decided to proceed with the ANOVA test, and will complete post hoc analysis using Tukey's honestly significant difference (HSD) as outined by Laerd Statistics.\n",
    "<br>"
   ]
  },
  {
   "cell_type": "code",
   "execution_count": 35,
   "metadata": {},
   "outputs": [
    {
     "name": "stdout",
     "output_type": "stream",
     "text": [
      "╒═══════════╤═══════════╤═══════════╕\n",
      "│     Test1 │     Test2 │     Test3 │\n",
      "╞═══════════╪═══════════╪═══════════╡\n",
      "│ 0.0107576 │ 0.0249161 │ 0.0238568 │\n",
      "╘═══════════╧═══════════╧═══════════╛\n"
     ]
    }
   ],
   "source": [
    "# display the results of the Shapiro results\n",
    "\n",
    "shapiro_results = {'Test1': [shapiro_test1.pvalue], \n",
    "        'Test2': [shapiro_test2.pvalue], \n",
    "        'Test3':[shapiro_test3.pvalue]}\n",
    "\n",
    "print(tabulate(shapiro_results, headers='keys', tablefmt='fancy_grid'))"
   ]
  },
  {
   "cell_type": "markdown",
   "metadata": {},
   "source": [
    "***\n",
    "### Running the ANOVA\n",
    "\n",
    "A pvalue result of greater than 0.05 mens that there was no statistially difference between the groups, and therefore the null hypothesis can be rejected $^8$ \n",
    "\n",
    "A pvalue result of less than 0.05 determines that a statistical difference was found. This requires a posthoc test should be run. $^8$ \n",
    "\n",
    "A posthoc will allow the author to deterimine where the difference between the groups occurred\n",
    "<br> \n"
   ]
  },
  {
   "cell_type": "code",
   "execution_count": 36,
   "metadata": {},
   "outputs": [
    {
     "data": {
      "text/plain": [
       "F_onewayResult(statistic=0.8406593406593407, pvalue=0.44859232065749804)"
      ]
     },
     "execution_count": 36,
     "metadata": {},
     "output_type": "execute_result"
    }
   ],
   "source": [
    "ss.f_oneway(\n",
    "    dependent[independent == 0], \n",
    "    dependent[independent == 1], \n",
    "    dependent[independent == 2])"
   ]
  },
  {
   "cell_type": "markdown",
   "metadata": {},
   "source": [
    "---\n",
    "\n",
    "### Reporting the results of the ANOVA\n",
    "\n",
    "https://statistics.laerd.com/statistical-guides/one-way-anova-statistical-guide-3.php\n",
    "\n"
   ]
  },
  {
   "cell_type": "markdown",
   "metadata": {},
   "source": [
    "The pvalue of the one-way ANOVA is 0.45 (see above).  This means that no statistical difference was identifed between the groups, so the null hypothesis can be rejected i.e. there is no difference between the subjects knowledge of the medical condition after watching the videos.\n",
    "\n",
    "The author does acknowledge that the test group of 20 individuals was quiet small."
   ]
  },
  {
   "cell_type": "markdown",
   "metadata": {},
   "source": [
    "***\n",
    "### Post hoc test\n",
    "\n",
    "As outlined previously, the dataset failed the normality test in Assumption 5.  One of the reasons for this could be the small size of the sample.  As such, the Author has decided to undertake post hoc analsys. \n",
    "<br><br>\n",
    "Laerd Satistic's suggest using Tukey's honestly significant difference (HSD) in cases where assumption 6 was not violated.  In the case of this notebook, Assumption 5 was not met, i.e. normal distribtuion was not found to be in place.  Tukey's test (also known as the honestly significant difference (HSD) test) will help explain where the signifcant differences lie between the groups that form part of the analysis.$^11$\n"
   ]
  },
  {
   "cell_type": "code",
   "execution_count": 37,
   "metadata": {},
   "outputs": [
    {
     "name": "stdout",
     "output_type": "stream",
     "text": [
      "Multiple Comparison of Means - Tukey HSD, FWER=0.05\n",
      "===================================================\n",
      "group1 group2 meandiff p-adj   lower  upper  reject\n",
      "---------------------------------------------------\n",
      "     0      1     -0.5 0.6594 -1.9834 0.9834  False\n",
      "     0      2    0.375 0.8476 -1.4418 2.1918  False\n",
      "     1      2    0.875 0.4511 -0.9418 2.6918  False\n",
      "---------------------------------------------------\n"
     ]
    }
   ],
   "source": [
    "from statsmodels.stats.multicomp import pairwise_tukeyhsd\n",
    "\n",
    "m_comp = pairwise_tukeyhsd(endog=df['@1st'], groups=df['Heardofcondition'], alpha=0.05)\n",
    "print(m_comp)"
   ]
  },
  {
   "cell_type": "markdown",
   "metadata": {},
   "source": [
    "Referencing back to the ANOVA, the pvalue was 0.45, which is in excess of 0.05 which finds that the groups are significantly different.  The results of Tukey's Post Hoc analsyis show that;\n",
    "<br>\n",
    "1. the pvalue of differences between group 0 and group 1 was 0.6594\n",
    "2. the pvalue of differences between group 0 and group 2 was 0.8476\n",
    "3. the pvalue of differences between group 0 and group 1 was 0.4511\n",
    "\n",
    "\n",
    "As all the values are in excess of the pvalue of the ANOVA, and also in excess of the 0.05, it is possible to say that there is a statistically significant difference between all the goups. "
   ]
  },
  {
   "cell_type": "markdown",
   "metadata": {},
   "source": [
    "***\n",
    "\n",
    "### Conclusion\n",
    "\n"
   ]
  },
  {
   "cell_type": "markdown",
   "metadata": {},
   "source": [
    "In conclusion, it is possoble to say that there is no statistical difference between the groups who watched the video, and their previous knowledge of the subject."
   ]
  },
  {
   "cell_type": "markdown",
   "metadata": {},
   "source": [
    "***\n",
    "### References:\n",
    "\n",
    "1. University of Sheffield.ac.uk, Datasets for Teaching, https://www.sheffield.ac.uk/mash/statistics/datasets, accessed 01 December 2021\n",
    "2. Laerd Statistics, One-way ANOVA in SPSS Statistics, https://statistics.laerd.com/spss-tutorials/one-way-anova-using-spss-statistics.php , accessed 01 December 2021\n",
    "3. Scipy.org, Statistical functions (scipy.stats), https://docs.scipy.org/doc/scipy/reference/stats.html, accessed 01 December 2021\n",
    "4. , LaerdStatistics.com, Testing for Normality using SPSS Statistics, https://statistics.laerd.com/spss-tutorials/testing-for-normality-using-spss-statistics.php, accessed 29 December 2021\n",
    "5. Statistic Solutions.com, The Assumption of Homogeneity of Variance, https://www.statisticssolutions.com/the-assumption-of-homogeneity-of-variance/, accessed 29 December 2021\n",
    "6. TechnologyNetworks.com, One-Way vs Two-Way ANOVA: Differences, Assumptions and Hypotheses, https://www.technologynetworks.com/informatics/articles/one-way-vs-two-way-anova-definition-differences-assumptions-and-hypotheses-306553, accessed 29 December 2021\n",
    "7. LaerdStatistics.com, Independent t-test for two samples, https://statistics.laerd.com/statistical-guides/independent-t-test-statistical-guide.php, accessed 29 December 2021\n",
    "8. LaerdStatistics.com, One-way ANOVA (cont...), https://statistics.laerd.com/statistical-guides/one-way-anova-statistical-guide-4.php, accessed 29 December 2021\n",
    "9. LaerdStatistic.com, One-way ANOVA, https://statistics.laerd.com/statistical-guides/one-way-anova-statistical-guide.php, accessed 29 December 2021\n",
    "10. LaerdStatistic.com, One-way ANOVA (Contd.), https://statistics.laerd.com/statistical-guides/one-way-anova-statistical-guide-3.php , accessed 29 December 2021\n",
    "11. Statisticshowto.com, What is the Tukey Test / Honest Significant Difference? , https://www.statisticshowto.com/tukey-test-honest-significant-difference/, accessed 30 December 2021\n",
    "\n",
    "\n",
    "\n",
    "## End\n"
   ]
  },
  {
   "cell_type": "code",
   "execution_count": null,
   "metadata": {},
   "outputs": [],
   "source": []
  }
 ],
 "metadata": {
  "kernelspec": {
   "display_name": "Python 3",
   "language": "python",
   "name": "python3"
  },
  "language_info": {
   "codemirror_mode": {
    "name": "ipython",
    "version": 3
   },
   "file_extension": ".py",
   "mimetype": "text/x-python",
   "name": "python",
   "nbconvert_exporter": "python",
   "pygments_lexer": "ipython3",
   "version": "3.8.8"
  }
 },
 "nbformat": 4,
 "nbformat_minor": 4
}
